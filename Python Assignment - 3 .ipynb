{
 "cells": [
  {
   "cell_type": "markdown",
   "id": "32f98510",
   "metadata": {},
   "source": [
    "# 1.1 Write a Python Program to implement your own myreduce() function which works exactly  like Python's built-in function reduce() \n"
   ]
  },
  {
   "cell_type": "code",
   "execution_count": null,
   "id": "d28b88ee",
   "metadata": {},
   "outputs": [],
   "source": [
    "def myreduce(func,lst):\n",
    "    finalValue = lst[0]\n",
    "    for a in lst[1:]:\n",
    "        finalValue = func(finalValue,a)\n",
    "    return finalValue"
   ]
  },
  {
   "cell_type": "code",
   "execution_count": 4,
   "id": "f88ec701",
   "metadata": {},
   "outputs": [],
   "source": [
    "def addnums(x,y):\n",
    "    c = x + y\n",
    "    return c"
   ]
  },
  {
   "cell_type": "code",
   "execution_count": 6,
   "id": "2a70520b",
   "metadata": {},
   "outputs": [],
   "source": [
    "l = [3,4,5,6,7,8,8]"
   ]
  },
  {
   "cell_type": "code",
   "execution_count": 11,
   "id": "cdff6bd0",
   "metadata": {},
   "outputs": [
    {
     "data": {
      "text/plain": [
       "41"
      ]
     },
     "execution_count": 11,
     "metadata": {},
     "output_type": "execute_result"
    }
   ],
   "source": [
    "myreduce(addnums,l)"
   ]
  },
  {
   "cell_type": "markdown",
   "id": "43c06530",
   "metadata": {},
   "source": [
    "# 1.2 Write a Python program to implement your own myfilter() function which works exactly  like Python's built-in function filter() "
   ]
  },
  {
   "cell_type": "code",
   "execution_count": 18,
   "id": "75f39d57",
   "metadata": {},
   "outputs": [],
   "source": [
    "def myfilter(func,lst):\n",
    "    result = []\n",
    "    for i in lst:\n",
    "        if func(i):\n",
    "            result.append(i)\n",
    "    return result"
   ]
  },
  {
   "cell_type": "code",
   "execution_count": 24,
   "id": "d1978da3",
   "metadata": {},
   "outputs": [],
   "source": [
    "def func_filter(num):\n",
    "    if (num <= 3):\n",
    "        return False\n",
    "    else:\n",
    "        return True\n",
    "    "
   ]
  },
  {
   "cell_type": "code",
   "execution_count": 25,
   "id": "07865005",
   "metadata": {},
   "outputs": [],
   "source": [
    "l1 = [1,2,5,6,7,8,9,6,-6,-6,-3,-2,-22-1]"
   ]
  },
  {
   "cell_type": "code",
   "execution_count": 26,
   "id": "a866b6b3",
   "metadata": {},
   "outputs": [
    {
     "data": {
      "text/plain": [
       "[5, 6, 7, 8, 9, 6]"
      ]
     },
     "execution_count": 26,
     "metadata": {},
     "output_type": "execute_result"
    }
   ],
   "source": [
    "myfilter(func_filter,l1)"
   ]
  },
  {
   "cell_type": "markdown",
   "id": "b4b22dbe",
   "metadata": {},
   "source": [
    "Implement List comprehensions to produce the following lists. Write List comprehensions to produce the following Lists "
   ]
  },
  {
   "cell_type": "code",
   "execution_count": 27,
   "id": "fc5f2c59",
   "metadata": {},
   "outputs": [
    {
     "name": "stdout",
     "output_type": "stream",
     "text": [
      "['A', 'C', 'A', 'D', 'G', 'I', 'L', 'D']\n"
     ]
    }
   ],
   "source": [
    "word = \"AcadGild\"\n",
    "output_list = [w.upper() for w in list(word)]\n",
    "print(output_list)"
   ]
  },
  {
   "cell_type": "code",
   "execution_count": 30,
   "id": "35f001f8",
   "metadata": {},
   "outputs": [
    {
     "name": "stdout",
     "output_type": "stream",
     "text": [
      "['x', 'xx', 'xxx', 'xxxx', 'y', 'yy', 'yyy', 'yyyy', 'z', 'zz', 'zzz', 'zzzz']\n"
     ]
    }
   ],
   "source": [
    "word_1 = list(\"xyz\")\n",
    "word_2 = [x*n for x in word_1 for n in range(1,5)]\n",
    "print(word_2)"
   ]
  },
  {
   "cell_type": "code",
   "execution_count": 32,
   "id": "78b85291",
   "metadata": {},
   "outputs": [
    {
     "name": "stdout",
     "output_type": "stream",
     "text": [
      "['x', 'y', 'z', 'xx', 'yy', 'zz', 'xxx', 'yyy', 'zzz', 'xxxx', 'yyyy', 'zzzz']\n"
     ]
    }
   ],
   "source": [
    "word_3 = list(\"xyz\")\n",
    "word_4 = [x*n for n in range(1,5) for x in word_3]\n",
    "print(word_4)"
   ]
  },
  {
   "cell_type": "code",
   "execution_count": 33,
   "id": "4c1564c8",
   "metadata": {},
   "outputs": [
    {
     "name": "stdout",
     "output_type": "stream",
     "text": [
      "[[2], [3], [4], [3], [4], [5], [4], [5], [6]]\n"
     ]
    }
   ],
   "source": [
    "number = [2,3,4]\n",
    "number_1 = [[x+n] for x in number for n in range(0,3)] \n",
    "print(number_1)"
   ]
  },
  {
   "cell_type": "code",
   "execution_count": 36,
   "id": "55ee7aad",
   "metadata": {},
   "outputs": [
    {
     "name": "stdout",
     "output_type": "stream",
     "text": [
      "[[2, 3, 4, 5], [3, 4, 5, 6], [4, 5, 6, 7], [5, 6, 7, 8]]\n"
     ]
    }
   ],
   "source": [
    "number_2 = [2,3,4,5]\n",
    "number_3 = [[x+n for n in range(0,4)] for x in number_2] \n",
    "print(number_3)"
   ]
  },
  {
   "cell_type": "code",
   "execution_count": 37,
   "id": "85b2e9d8",
   "metadata": {},
   "outputs": [
    {
     "name": "stdout",
     "output_type": "stream",
     "text": [
      "[(1, 1), (2, 1), (3, 1), (1, 2), (2, 2), (3, 2), (1, 3), (2, 3), (3, 3)]\n"
     ]
    }
   ],
   "source": [
    "number_4=[1,2,3]\n",
    "number_5= [(b,a) for a in number_4 for b in number_4]\n",
    "print(number_5)"
   ]
  },
  {
   "cell_type": "code",
   "execution_count": null,
   "id": "deebc11f",
   "metadata": {},
   "outputs": [],
   "source": []
  }
 ],
 "metadata": {
  "kernelspec": {
   "display_name": "Python 3",
   "language": "python",
   "name": "python3"
  },
  "language_info": {
   "codemirror_mode": {
    "name": "ipython",
    "version": 3
   },
   "file_extension": ".py",
   "mimetype": "text/x-python",
   "name": "python",
   "nbconvert_exporter": "python",
   "pygments_lexer": "ipython3",
   "version": "3.8.8"
  }
 },
 "nbformat": 4,
 "nbformat_minor": 5
}
